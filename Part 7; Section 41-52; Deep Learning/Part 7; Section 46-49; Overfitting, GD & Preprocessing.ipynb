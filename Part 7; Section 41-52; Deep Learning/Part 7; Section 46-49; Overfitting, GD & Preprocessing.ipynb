{
 "cells": [
  {
   "cell_type": "markdown",
   "metadata": {},
   "source": [
    "# Overfitting and Underfitting\n",
    "Recall:\n",
    "\n",
    "**Overfitting** is when our training has focused so much on the particular training set, it has 'missed the point'\n",
    "\n",
    "**Underfitting** is when the model has not captured the underlying logic of the data\n",
    "\n",
    "The **bias-variance tradeoff** is the balance between underfitting and overfitting"
   ]
  },
  {
   "cell_type": "markdown",
   "metadata": {},
   "source": [
    "# What is Validation?\n",
    "We can usually identify overfitting by splitting our dataset into 3 subsets; training, validation, and test.\n",
    "- The training dataset is where we train the model, and is mostly what we have worked on up until now.\n",
    "- The validation dataset helps us detect and prevent overfitting\n",
    "\n",
    "All training is done on the training set, i.e. we update the weights and biases for the training set only, every once in a while we stop training for a bit, at this point the model is somewhat trained. \n",
    "\n",
    "Next we run the model on the validation set, and we only propagate forward, in other word we just calculate the loss function of the validation set. On average it should be equal to the training loss, as both sets are subsets of the original dataset.\n",
    "\n",
    "Normally we would perform this process many times in the process of creating a good machine learning algorithm. \n",
    "\n",
    "If the validation loss at any point starts increasing then overfitting of the model is occurring, at this point we should stop training the model.\n",
    "\n",
    "**It is very important that the model is not trained on the validation set as this defeats its whole point**"
   ]
  },
  {
   "cell_type": "markdown",
   "metadata": {},
   "source": [
    "# Training, validation, and test\n",
    "- The test set measures the final predictive power of the model\n",
    "- The accuracy that we get by forward propagating the test set is the accuracy we expect the model to have of we use it in real life\n",
    "\n",
    "## Summary\n",
    "1. We get a dataset\n",
    "2. Split it into 3 parts, do we split the model evenly?\n",
    "    - No, usually we use an 80/10/10 or a 70/20/10 split\n",
    "3. We train only on the training set\n",
    "4. Every now and then we run the model through the validation dataset, but how often is every now and then?\n",
    "    - Usually we validate at the end of every epoch, every time we adjust all weights and calculate the training loss we validate\n",
    "5. We test the model with the test set, the accuract we obtain here is the accuracy of the algorithm"
   ]
  },
  {
   "attachments": {
    "image.png": {
     "image/png": "[encoded data removed]"
    }
   },
   "cell_type": "markdown",
   "metadata": {},
   "source": [
    "# N-Fold Cross Validation\n",
    "- If the dataset is really small we can't afford to split the dataset into 3, as we could miss some of the underlying logic of the data. Or worse still, we may have such little data left for training the algorithm can't learn anything.\n",
    "- To solve this we use n-fold cross validation, this combines the training and validation set in a clever way, however it still requires a test subset\n",
    "- We split the training and validation set into n chunks, with 1 chunk being the validation set for that epoch. For the next epoch we use a different chunk for the validation set.\n",
    "\n",
    "In the diagram below the blue chunk is the validation set and the pink are the training set for each epoch\n",
    "\n",
    "![image.png](attachment:image.png)\n",
    "\n",
    "### Pros and Cons\n",
    "Pros:\n",
    "- Utilized more data in testing\n",
    "- We have a model\n",
    "\n",
    "Cons:\n",
    "- Trained on validation set\n",
    "- Possibly overfitted a bit"
   ]
  },
  {
   "cell_type": "markdown",
   "metadata": {},
   "source": [
    "# Early Stopping/ When to stop training\n",
    "This is a technique to prevent overfitting by stopping the training early.\n",
    "\n",
    "### Most common ways\n",
    "1. Train for a preset number of epochs\n",
    "    - **Pros:** Eventually solves the problem\n",
    "    - **Cons:** No guarantee the min is reached, maybe doesn't minimize at all, can lead to overfitting\n",
    "    \n",
    "2. Stop when the loss function updates become sufficiently small\n",
    "    - **Pros:** We are sure the loss is minimized, saves computing power by using as few iterations as possible\n",
    "    - **Cons:** Can lead to overfitting\n",
    "    \n",
    "3. Validation set strategy\n",
    "- This works as we stop when the validation loss is minimized not when the training loss is. When overfitting occurs the validation loss starts increasing again.\n",
    "    - **Pros:** Validation loss is minimized, saves computing power, prevents overfitting\n",
    "    - **Cons:** Can iterate uselessly, as the strategy iterates until overfitting starts\n",
    "    \n",
    "The best practice is to stop when the training function becomes sufficiently small and when the validation loss is minimal"
   ]
  },
  {
   "cell_type": "markdown",
   "metadata": {},
   "source": [
    "# Initialization\n",
    "This is the process in which we set the initial values of weights. An inappropriate initialization leads to a model that cannot be optimized.\n",
    "\n",
    "### Types of Simple Initialization\n",
    "1. Random uniform initializer (like we did for the weights and biases previously), each number in the range has an equal probability to be selected\n",
    "2. Normal initializer, we pick the numbers from a 0 mean normal distribution, numbers closer to 0 are more likely to be chosen. \n",
    "\n",
    "Both these methods are somewhat problematic but were commonly used until a solution arose in maths in 2010.\n",
    "\n",
    "### Xavier/Glorot initialization\n",
    "- Xavier Glorot founded this method in 2010. The range in the two above cases is chosen by us, the Xavier initialisation addresses this issue\n",
    "- The main idea is that the method isn't so important but the number of inputs and outputs is.\n",
    "- **Uniform Xavier Initialisation:** draw each weight w from a random uniform distribution in $[-x, x]$ for \n",
    "$$x = \\sqrt{\\frac{6}{\\text{inputs }+ \\text{ outputs}}}$$\n",
    "- **Normal Xavier Initialisation:** draw each weight w from a normal distribution with a mean of 0 and a standard deviation\n",
    "$$\\sigma = \\sqrt{\\frac{2}{\\text{inputs }+ \\text{ outputs}}}$$\n",
    "\n",
    "In tensor flow the glorot_uniform_initializer is the default."
   ]
  },
  {
   "cell_type": "markdown",
   "metadata": {},
   "source": [
    "# Stochastic Gradient Descent\n",
    "SGD is closely related to the concept of batching. **Batching** is the process of splitting the dataset in n batches (also known as mini-batches). The weights are updated after each batch rather than each epoch.\n",
    "\n",
    "The SGD comes at a cost: it approximates things a bit, but the trade off is worth it.\n",
    "\n",
    "Splitting the training set into batches allows the CPU cores or the GPU cores to train different batches simultaneously. This gives an incredible speed boost.\n",
    "\n",
    "Technically stochastic gradient descent is when you update after every input (mini-batch size of 1). What has been described above is actually called Mini-batch GD. However more often than not practitioners refer to mini-batch GD as SGD. \n",
    "\n",
    "### Problems with Gradient Descent\n",
    "- Can get stuck in a local minimum rather than finding the global minimum. \n",
    "- This also depends on the learning rate, as if the learning rate is high enough it may skip over local minima. However it may oscillate and never reach the global minimum\n",
    "\n",
    "### Momentum\n",
    "- Imagine the GD as a ball rolling down a hill. The faster the ball rolls the more momentum it has. A small dip in the hill would not stop the ball, it would continue rolling until it reaches the bottom.\n",
    "- If there was no momentum the ball would never reach the final destination\n",
    "- The momentum accounts for the fact that the ball is going downhill\n",
    "- The best way to find out how fast the ball rolls is to check how fast it rolled a moment ago\n",
    "\n",
    "$$ w \\leftarrow w(t)- \\eta \\frac{\\partial{L}}{\\partial{w}}(t) - \\alpha \\eta \\frac{\\partial{L}}{\\partial{w}}(t-1) $$\n",
    "\n",
    "- $w(t)- \\eta \\frac{\\partial{L}}{\\partial{w}}(t)$ is the current update\n",
    "- $\\eta \\frac{\\partial{L}}{\\partial{w}}(t-1)$ is the previous update which we multiply by $\\alpha$, as otherwise we would assign the same importance to both updates \n",
    "- $\\alpha = 0.9$ is the convention, $\\alpha$ is a hyperparameter (i.e. set by us)"
   ]
  },
  {
   "cell_type": "markdown",
   "metadata": {},
   "source": [
    "# Learning Rate\n",
    "- Must be small enough so we gently descend instead of oscillating or diverging\n",
    "- Must be big enough so the optimization occurs in a reasonable amount of time\n",
    "\n",
    "### Learning Rate Schedules\n",
    "1. We start from a high initial learning rate, this leads to faster training\n",
    "2. At some point we lower the rate to avoid oscillation\n",
    "3. Around the end we pick a very small learning rate to get a precise answer\n",
    "\n",
    "How to achieve this?\n",
    "1. The simplest way is a **piecewise learning rate**, this is not the common way as it requires knowing how many epochs it'll take for convergence\n",
    "2. **Exponential schedule**, it smoothly decays the learning rate, $\\eta = \\eta_0e^{-n/c}$ where n is the current epocj and c is some constant. There is no set rule for the constant c, but it should be of the same order of magnitude as the number of epochs required to minimise the loss. \n",
    "\n",
    "### Advanced Learning Rate Schedules\n",
    "#### AdaGrad\n",
    "- Short for adaptive gradient algorithm\n",
    "- It dynamically varies the learning rate at each update and for each weight individually\n",
    "$$ w(t+1) = w(t)- \\eta \\frac{\\partial{L}}{\\partial{w}}(t)$$\n",
    "$$\\Delta w = - \\eta \\frac{\\partial{L}}{\\partial{w}}(t)$$\n",
    "Nothing new so far, using Adagrad the change in the weight is given as:\n",
    "$$\\Delta w_i(t) = - \\frac{\\eta}{\\sqrt{G_i(t)} + \\varepsilon}\\frac{\\partial{L}}{\\partial{w_i}}(t)$$\n",
    "with\n",
    "$$G_i(t) = G_i(t-1) + \\left(\\frac{\\partial{L}}{\\partial{w_i}}(t) \\right)^2, \\hspace{4pt} G_i(0) = 0$$\n",
    "$G_i(t)$ is a monotonously increasing function\n",
    "\n",
    "#### RMSProp\n",
    "- Stands for root mean square propagation\n",
    "- Very similar to Adagrad\n",
    "$$\\Delta w_i(t) = - \\frac{\\eta}{\\sqrt{G_i(t)} + \\varepsilon}\\frac{\\partial{L}}{\\partial{w_i}}(t)$$\n",
    "with\n",
    "$$G_i(t) = \\beta G_i(t-1) + (1-\\beta) \\left(\\frac{\\partial{L}}{\\partial{w_i}}(t) \\right)^2, \\hspace{6pt} G_i(0) = 0$$\n",
    "- $\\beta$ is another hyperparameter, usually equal to 0.9\n",
    "- $G_i(t)$ is no longer monotonous and can adapt upwards and downwards\n",
    "\n",
    "#### ADAM\n",
    "- Stands for adaptive moment estimation\n",
    "- The most advanced optimizer (very fast and efficient)\n",
    "- The previous two learning rate schedules did not include momentum, which is included here\n",
    "$$\\Delta w_i(t) = - \\frac{\\eta}{\\sqrt{G_i(t)} + \\varepsilon}M_i(t)$$\n",
    "\n",
    "$$M_i(t) = \\alpha M_i(t-1) + (1- \\alpha) \\frac{\\partial{L}}{\\partial{w_i}}(t), \\hspace{6pt} M_i(0) = 0$$"
   ]
  },
  {
   "cell_type": "markdown",
   "metadata": {},
   "source": [
    "# Preprocessing\n",
    "Any manipulation of the dataset before running the model\n",
    "- **Compatibility:** E.g. Tensorflow works with npz files not csv so some preprocessing may need to be done before applying the model\n",
    "- **Orders of magnitude:** Some inputs may be a greater order of magnitude than others so standardising may be needed\n",
    "- **Generalisation:** Can use the same model for a different issue\n",
    "\n",
    "### Types of Basic Preprocessing\n",
    "- **Relative metrics:** Especially useful for time series data\n",
    "- These relative changes can be transformed again using **logarithms**\n",
    "\n",
    "### Standardisation\n",
    "- Also referred to previously as Feature scaling\n",
    "- This is the process of transforming data into a standard scale\n",
    "- A very common way to approach this problem is by subtracting the mean and dividing by the standard deviation\n",
    "\n",
    "#### Other Methods\n",
    "- **Normalisation:** In machine learning this refers to converting each sample into a unit length vector using the L1 or L2 norm.\n",
    "- **PCA:** stands for principal components analysis, this is a dimension reduction technique used to combine several variables into a bigger (latent) variable\n",
    "- **Whitening:** Usually done after PCA and removes most of the underlying correlation between data points\n",
    "\n",
    "### Preprocessing Categorical Data\n",
    "- Assigning each category a number, e.g. bread = 1, yoghurt = 2, cheese = 3, can imply an order which is not ideal\n",
    "- There are two ways to encode categories in ML: Binary encoding and One Hot encoding\n",
    "\n",
    "#### Binary Encoding\n",
    "- We change our ordinal numbers to binary, e.g. from the example above bread = 1 = 01, yoghurt = 2 = 10, cheese = 3 = 11. The binary then gets split into a variable for each digit so in the first variable we have \\[0 1 1 \\] and in the second we have \\[1 0 1\\]\n",
    "- By splitting the numbers into two variables we have removed the order BUT there are some implied correlation between them, e.g. bread seems to be the opposite of yoghurt\n",
    "\n",
    "#### One Hot Encoding\n",
    "- This is very simple and widely used\n",
    "- It consists of creating as many columns/variables as there are possible values. In the example above we would have a column for bread, one for yoghurt, and one for cheese. \n",
    "- Bread = \\[1 0 0 \\], Yoghurt = \\[0 1 0 \\], Cheese = \\[0 0 1 \\]\n",
    "- This method means the variables are uncorrelated and unequivocal\n",
    "- The problem with this method is that you need a new column for each variable, when there are many variables this is unfeasible and binary is used\n",
    "\n",
    "Clearly there is a trade-off between binary and one hot encoding, we want to use binary when we have many categories and one hot encoding when we have a few."
   ]
  },
  {
   "cell_type": "code",
   "execution_count": null,
   "metadata": {},
   "outputs": [],
   "source": []
  }
 ],
 "metadata": {
  "kernelspec": {
   "display_name": "Python [conda env:py3-TF2.0]",
   "language": "python",
   "name": "conda-env-py3-TF2.0-py"
  },
  "language_info": {
   "codemirror_mode": {
    "name": "ipython",
    "version": 3
   },
   "file_extension": ".py",
   "mimetype": "text/x-python",
   "name": "python",
   "nbconvert_exporter": "python",
   "pygments_lexer": "ipython3",
   "version": "3.8.13"
  }
 },
 "nbformat": 4,
 "nbformat_minor": 4
}
