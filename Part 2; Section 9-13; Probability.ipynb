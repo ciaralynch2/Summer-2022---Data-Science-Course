{
 "cells": [
  {
   "cell_type": "markdown",
   "metadata": {},
   "source": [
    "# Definitions\n",
    "- **Probability:** The likelihood of an event occurring\n",
    "- **Independent:** The likelihood of one event occurring does not affect the likelihood of a separate event occurring P(A $\\cap$ B) = P(A) x P(B)\n",
    "- **Expected Values:** E(x) = $\\sum^{n}_{i}P(x_i)x_i$"
   ]
  },
  {
   "cell_type": "markdown",
   "metadata": {},
   "source": []
  }
 ],
 "metadata": {
  "kernelspec": {
   "display_name": "Python 3",
   "language": "python",
   "name": "python3"
  },
  "language_info": {
   "codemirror_mode": {
    "name": "ipython",
    "version": 3
   },
   "file_extension": ".py",
   "mimetype": "text/x-python",
   "name": "python",
   "nbconvert_exporter": "python",
   "pygments_lexer": "ipython3",
   "version": "3.8.3"
  }
 },
 "nbformat": 4,
 "nbformat_minor": 4
}
