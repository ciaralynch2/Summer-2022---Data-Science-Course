{
 "cells": [
  {
   "cell_type": "markdown",
   "metadata": {},
   "source": [
    "# Intro\n",
    "Imagine you are a business analyst, you must:\n",
    "- be able to manage the information \n",
    "- have a substantial amount of mathematical and statistical tools\n",
    "- present results in the most intuitive way\n",
    "- be able to tackle the problem from a business perspective"
   ]
  },
  {
   "cell_type": "markdown",
   "metadata": {},
   "source": [
    "# Defining the Problem\n",
    "The exercise will address **absenteeism** at a company during work time.\n",
    "\n",
    "The problem is that the business environment of today is more competitve than it used to be, this combined with unachievable business goals, and an elevated risk of being unemployed can raise people's stress levels. A continuous presence of such factors can be detrimental to a person's health, from minor illnesses, e.g. the flu, or to long term conditions, e.g. depression.\n",
    "\n",
    "We are looking at this as the head of productivity, and are looking to predict absenteeism from work. In particularly, we want to know whether or not an employee can be expected to be missing for a specific number of hours during the work day. Having such info in advance can improve decision making by reorganising the work process in a way that will allow us to avoid a lack of productivity and will increase work quality in the firm.\n",
    "\n",
    "**Absenteeism:** We define this as an absence of work during normal working hours, resulting in temporary incapacity to execute regular working activity."
   ]
  },
  {
   "cell_type": "code",
   "execution_count": null,
   "metadata": {},
   "outputs": [],
   "source": []
  }
 ],
 "metadata": {
  "kernelspec": {
   "display_name": "Python 3",
   "language": "python",
   "name": "python3"
  },
  "language_info": {
   "codemirror_mode": {
    "name": "ipython",
    "version": 3
   },
   "file_extension": ".py",
   "mimetype": "text/x-python",
   "name": "python",
   "nbconvert_exporter": "python",
   "pygments_lexer": "ipython3",
   "version": "3.8.3"
  }
 },
 "nbformat": 4,
 "nbformat_minor": 4
}
