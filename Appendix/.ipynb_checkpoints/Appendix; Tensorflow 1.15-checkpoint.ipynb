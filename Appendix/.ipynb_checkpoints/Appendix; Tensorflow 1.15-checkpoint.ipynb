{
 "cells": [
  {
   "cell_type": "markdown",
   "metadata": {},
   "source": [
    "### Import the relevant libraries"
   ]
  },
  {
   "cell_type": "code",
   "execution_count": 1,
   "metadata": {},
   "outputs": [],
   "source": [
    "import numpy as np\n",
    "import matplotlib.pyplot as plt\n",
    "import tensorflow as tf"
   ]
  },
  {
   "cell_type": "markdown",
   "metadata": {},
   "source": [
    "### Data generation"
   ]
  },
  {
   "cell_type": "code",
   "execution_count": 2,
   "metadata": {},
   "outputs": [],
   "source": [
    "obs = 1000\n",
    "\n",
    "xs = np.random.uniform(low=-10, high=10, size=(obs,1))\n",
    "zs = np.random.uniform(-10, 10, (obs,1))\n",
    "\n",
    "gen_inputs = np.column_stack((xs, zs))\n",
    "\n",
    "noise = np.random.uniform(-1, 1, (obs, 1))\n",
    "\n",
    "gen_targets = 2*xs - 3*zs + 5 + noise\n",
    "\n",
    "np.savez('TF_intro', inputs = gen_inputs, targets = gen_targets)"
   ]
  },
  {
   "cell_type": "markdown",
   "metadata": {},
   "source": [
    "# Solving with Tensorflow"
   ]
  },
  {
   "cell_type": "code",
   "execution_count": 3,
   "metadata": {},
   "outputs": [],
   "source": [
    "input_size = 2\n",
    "output_size = 1\n",
    "hidden_size = 10"
   ]
  },
  {
   "cell_type": "markdown",
   "metadata": {},
   "source": [
    "### Outlining the model"
   ]
  },
  {
   "cell_type": "code",
   "execution_count": 4,
   "metadata": {},
   "outputs": [],
   "source": [
    "# This instructs the algorithm how we will feed data\n",
    "inputs = tf.compat.v1.placeholder(tf.float32, [None, input_size])\n",
    "targets = tf.compat.v1.placeholder(tf.float32, [None, output_size])\n",
    "\n",
    "# The placeholder is where we feed the data\n",
    "# placeholder(type_of_data, [dimensions of inputs/targets])\n",
    "# The None is there as we don't need to specify the number of rows\n",
    "# but we know there are two inputs xs and zs, so we have two\n",
    "# columns, same idea for targets\n",
    "\n",
    "weights = tf.Variable(tf.random.uniform([input_size, output_size], minval=-0.1, maxval=0.1))\n",
    "biases = tf.Variable(tf.random.uniform([output_size], minval=-0.1, maxval=0.1))\n",
    "\n",
    "outputs = tf.matmul(inputs, weights) + biases"
   ]
  },
  {
   "cell_type": "markdown",
   "metadata": {},
   "source": [
    "### Choosing the objective function and optimization method"
   ]
  },
  {
   "cell_type": "code",
   "execution_count": 5,
   "metadata": {},
   "outputs": [
    {
     "name": "stdout",
     "output_type": "stream",
     "text": [
      "WARNING:tensorflow:From C:\\Users\\ciara\\anaconda3\\envs\\python3-TF1.0\\lib\\site-packages\\tensorflow_core\\python\\ops\\losses\\losses_impl.py:121: where (from tensorflow.python.ops.array_ops) is deprecated and will be removed in a future version.\n",
      "Instructions for updating:\n",
      "Use tf.where in 2.0, which has the same broadcast rule as np.where\n"
     ]
    }
   ],
   "source": [
    "# Objective Function\n",
    "mean_loss = tf.compat.v1.losses.mean_squared_error(labels=targets, predictions=outputs) /2.\n",
    "\n",
    "# tf.losses is a module that contains most of the common loss functions\n",
    "# losses.mean_squared_error is a method equal to the average \n",
    "# L2-norm loss\n",
    "# Then we divide by 2, as it is standard practice"
   ]
  },
  {
   "cell_type": "code",
   "execution_count": 6,
   "metadata": {},
   "outputs": [],
   "source": [
    "# Optimization method\n",
    "optimize = tf.compat.v1.train.GradientDescentOptimizer(learning_rate=0.05).minimize(mean_loss)\n",
    "\n",
    "# tf.train is a module that contains most of the common optimization algorithms\n",
    "# We define the learning rate and state what we want to minimize"
   ]
  },
  {
   "cell_type": "markdown",
   "metadata": {},
   "source": [
    "### Prepare for execution"
   ]
  },
  {
   "cell_type": "code",
   "execution_count": 7,
   "metadata": {},
   "outputs": [],
   "source": [
    "sess = tf.compat.v1.InteractiveSession()\n",
    "\n",
    "# tf.InteractiveSession() is a TensorFlow class that is used when we\n",
    "# want to execute something"
   ]
  },
  {
   "cell_type": "markdown",
   "metadata": {},
   "source": [
    "### Initializing variables"
   ]
  },
  {
   "cell_type": "code",
   "execution_count": 8,
   "metadata": {},
   "outputs": [],
   "source": [
    "# This is the process of setting initial values for variables\n",
    "init = tf.compat.v1.global_variables_initializer()\n",
    "\n",
    "sess.run(init)"
   ]
  },
  {
   "cell_type": "markdown",
   "metadata": {},
   "source": [
    "### Loading training data"
   ]
  },
  {
   "cell_type": "code",
   "execution_count": 9,
   "metadata": {},
   "outputs": [],
   "source": [
    "train_data = np.load('TF_intro.npz')"
   ]
  },
  {
   "cell_type": "markdown",
   "metadata": {},
   "source": [
    "### Learning"
   ]
  },
  {
   "cell_type": "code",
   "execution_count": 10,
   "metadata": {},
   "outputs": [
    {
     "name": "stdout",
     "output_type": "stream",
     "text": [
      "222.57463\n",
      "104.362045\n",
      "52.35897\n",
      "28.663641\n",
      "17.421253\n",
      "11.81343\n",
      "8.828213\n",
      "7.1013093\n",
      "6.000322\n",
      "5.2257004\n",
      "4.632406\n",
      "4.148409\n",
      "3.7367377\n",
      "3.3775198\n",
      "3.0593677\n",
      "2.7751958\n",
      "2.5201707\n",
      "2.290708\n",
      "2.0839458\n",
      "1.8974918\n",
      "1.7292775\n",
      "1.5774813\n",
      "1.4404844\n",
      "1.3168341\n",
      "1.2052256\n",
      "1.1044853\n",
      "1.0135524\n",
      "0.9314712\n",
      "0.8573813\n",
      "0.7905037\n",
      "0.7301366\n",
      "0.6756453\n",
      "0.6264591\n",
      "0.58206064\n",
      "0.541984\n",
      "0.5058092\n",
      "0.4731551\n",
      "0.4436802\n",
      "0.41707382\n",
      "0.39305824\n",
      "0.3713802\n",
      "0.35181206\n",
      "0.3341493\n",
      "0.31820557\n",
      "0.30381402\n",
      "0.2908236\n",
      "0.27909753\n",
      "0.26851293\n",
      "0.2589586\n",
      "0.25033447\n",
      "0.24254988\n",
      "0.23552299\n",
      "0.22918002\n",
      "0.22345473\n",
      "0.2182864\n",
      "0.2136217\n",
      "0.20941092\n",
      "0.20560972\n",
      "0.20217885\n",
      "0.19908184\n",
      "0.19628634\n",
      "0.1937629\n",
      "0.19148523\n",
      "0.1894292\n",
      "0.18757333\n",
      "0.18589811\n",
      "0.18438594\n",
      "0.183021\n",
      "0.18178894\n",
      "0.18067679\n",
      "0.17967297\n",
      "0.1787668\n",
      "0.17794885\n",
      "0.17721045\n",
      "0.17654404\n",
      "0.17594244\n",
      "0.17539944\n",
      "0.17490923\n",
      "0.17446686\n",
      "0.17406741\n",
      "0.17370695\n",
      "0.17338158\n",
      "0.17308779\n",
      "0.1728227\n",
      "0.17258331\n",
      "0.17236729\n",
      "0.17217237\n",
      "0.17199633\n",
      "0.1718374\n",
      "0.171694\n",
      "0.17156455\n",
      "0.1714477\n",
      "0.17134222\n",
      "0.17124704\n",
      "0.17116112\n",
      "0.17108345\n",
      "0.17101343\n",
      "0.1709503\n",
      "0.1708932\n",
      "0.17084172\n"
     ]
    }
   ],
   "source": [
    "for e in range(100):\n",
    "    _, loss_now = sess.run([optimize, mean_loss],\n",
    "                          feed_dict = {inputs:train_data['inputs'], targets:train_data['targets']})\n",
    "    print(loss_now)\n",
    "    \n",
    "# e stands for epoch (an iteration over the full dataset)\n",
    "\n",
    "# The meaning of the code inside the for loop is:\n",
    "# Run the optimize and mean_loss operations by filling the\n",
    "# placeholder items with the data specified by the feed_dict\n",
    "# parameter\n",
    "\n",
    "# Since every method returns something, loss_now will return\n",
    "# something for optimize and mean_loss\n",
    "# loss_now = [optimize, mean_loss]\n",
    "# mean_loss returns a value but optimize doesn't return anything\n",
    "\n",
    "# The underscore symbol is a special symbol to disregard a return\n",
    "# value of a function or method"
   ]
  },
  {
   "cell_type": "markdown",
   "metadata": {},
   "source": [
    "### Plotting the data"
   ]
  },
  {
   "cell_type": "code",
   "execution_count": 11,
   "metadata": {},
   "outputs": [
    {
     "data": {
      "image/png": "[encoded data removed]",
      "text/plain": [
       "<Figure size 640x480 with 1 Axes>"
      ]
     },
     "metadata": {},
     "output_type": "display_data"
    }
   ],
   "source": [
    "out = sess.run([outputs],\n",
    "              feed_dict = {inputs:train_data['inputs']})\n",
    "plt.plot(np.squeeze(out), np.squeeze(train_data['targets']))\n",
    "plt.xlabel('Outputs')\n",
    "plt.ylabel('Targets')\n",
    "plt.show()"
   ]
  },
  {
   "cell_type": "code",
   "execution_count": null,
   "metadata": {},
   "outputs": [],
   "source": []
  }
 ],
 "metadata": {
  "kernelspec": {
   "display_name": "Python [conda env:python3-TF1.0]",
   "language": "python",
   "name": "conda-env-python3-TF1.0-py"
  },
  "language_info": {
   "codemirror_mode": {
    "name": "ipython",
    "version": 3
   },
   "file_extension": ".py",
   "mimetype": "text/x-python",
   "name": "python",
   "nbconvert_exporter": "python",
   "pygments_lexer": "ipython3",
   "version": "3.7.13"
  }
 },
 "nbformat": 4,
 "nbformat_minor": 4
}
