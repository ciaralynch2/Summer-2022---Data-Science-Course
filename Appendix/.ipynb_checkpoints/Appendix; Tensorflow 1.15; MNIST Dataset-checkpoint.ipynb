{
 "cells": [
  {
   "cell_type": "markdown",
   "metadata": {},
   "source": [
    "# The MNIST Action Plan\n",
    "1. Outline the model and choose the activation functions we want to employ\n",
    "2. Describe the placeholders, variables, and the related operations\n",
    "3. Choose the appropriate advanced optimizers\n",
    "4. Split the dataset into batches for faster learning\n",
    "5. Initialize the variables\n",
    "6. Make it learn\n",
    "7. Test the accuracy of the model"
   ]
  },
  {
   "cell_type": "markdown",
   "metadata": {},
   "source": [
    "# Deep NN for MNIST Classification\n",
    "\n",
    "### Import relevant packages"
   ]
  },
  {
   "cell_type": "code",
   "execution_count": 1,
   "metadata": {},
   "outputs": [
    {
     "name": "stdout",
     "output_type": "stream",
     "text": [
      "WARNING:tensorflow:From C:\\Users\\ciara\\AppData\\Local\\Temp\\ipykernel_17140\\804954584.py:5: read_data_sets (from tensorflow.contrib.learn.python.learn.datasets.mnist) is deprecated and will be removed in a future version.\n",
      "Instructions for updating:\n",
      "Please use alternatives such as official/mnist/dataset.py from tensorflow/models.\n",
      "WARNING:tensorflow:From C:\\Users\\ciara\\anaconda3\\envs\\python3-TF1.0\\lib\\site-packages\\tensorflow_core\\contrib\\learn\\python\\learn\\datasets\\mnist.py:260: maybe_download (from tensorflow.contrib.learn.python.learn.datasets.base) is deprecated and will be removed in a future version.\n",
      "Instructions for updating:\n",
      "Please write your own downloading logic.\n",
      "WARNING:tensorflow:From C:\\Users\\ciara\\anaconda3\\envs\\python3-TF1.0\\lib\\site-packages\\tensorflow_core\\contrib\\learn\\python\\learn\\datasets\\mnist.py:262: extract_images (from tensorflow.contrib.learn.python.learn.datasets.mnist) is deprecated and will be removed in a future version.\n",
      "Instructions for updating:\n",
      "Please use tf.data to implement this functionality.\n",
      "Extracting MNIST_data/train-images-idx3-ubyte.gz\n",
      "WARNING:tensorflow:From C:\\Users\\ciara\\anaconda3\\envs\\python3-TF1.0\\lib\\site-packages\\tensorflow_core\\contrib\\learn\\python\\learn\\datasets\\mnist.py:267: extract_labels (from tensorflow.contrib.learn.python.learn.datasets.mnist) is deprecated and will be removed in a future version.\n",
      "Instructions for updating:\n",
      "Please use tf.data to implement this functionality.\n",
      "Extracting MNIST_data/train-labels-idx1-ubyte.gz\n",
      "WARNING:tensorflow:From C:\\Users\\ciara\\anaconda3\\envs\\python3-TF1.0\\lib\\site-packages\\tensorflow_core\\contrib\\learn\\python\\learn\\datasets\\mnist.py:110: dense_to_one_hot (from tensorflow.contrib.learn.python.learn.datasets.mnist) is deprecated and will be removed in a future version.\n",
      "Instructions for updating:\n",
      "Please use tf.one_hot on tensors.\n",
      "Extracting MNIST_data/t10k-images-idx3-ubyte.gz\n",
      "Extracting MNIST_data/t10k-labels-idx1-ubyte.gz\n",
      "WARNING:tensorflow:From C:\\Users\\ciara\\anaconda3\\envs\\python3-TF1.0\\lib\\site-packages\\tensorflow_core\\contrib\\learn\\python\\learn\\datasets\\mnist.py:290: DataSet.__init__ (from tensorflow.contrib.learn.python.learn.datasets.mnist) is deprecated and will be removed in a future version.\n",
      "Instructions for updating:\n",
      "Please use alternatives such as official/mnist/dataset.py from tensorflow/models.\n"
     ]
    }
   ],
   "source": [
    "import numpy as np\n",
    "import tensorflow as tf\n",
    "from tensorflow.examples.tutorials.mnist import input_data\n",
    "\n",
    "mnist = input_data.read_data_sets('MNIST_data/', one_hot=True)\n",
    "# The dataset has been split into training, validation and test\n",
    "# The data has also been preprocessed"
   ]
  },
  {
   "cell_type": "markdown",
   "metadata": {},
   "source": [
    "### Outline the model"
   ]
  },
  {
   "cell_type": "code",
   "execution_count": 2,
   "metadata": {},
   "outputs": [],
   "source": [
    "input_size = 784\n",
    "output_size = 10\n",
    "hidden_size = 100\n",
    "\n",
    "tf.compat.v1.reset_default_graph() \n",
    "\n",
    "# tf.reset_default_graph() clears the memory of all variables left\n",
    "# from previous runs (reset the computational graph)\n",
    "\n",
    "inputs = tf.compat.v1.placeholder(tf.float32, [None, input_size])\n",
    "targets = tf.compat.v1.placeholder(tf.float32, [None, output_size])\n",
    "\n",
    "weights_1 = tf.compat.v1.get_variable('weights_1', [input_size, hidden_size])\n",
    "biases_1 = tf.compat.v1.get_variable('biases_1', [hidden_size])\n",
    "\n",
    "# tf.get_variable('name', shape) is a function used to declare \n",
    "# variables. The default initializer is Xavier (Glorot)\n",
    "\n",
    "outputs_1 = tf.nn.relu(tf.matmul(inputs, weights_1) + biases_1)\n",
    "\n",
    "# tf.nn is a module that contains neural network support. Among \n",
    "# other things, it contains the most commonly used activation\n",
    "# functions\n",
    "\n",
    "weights_2 = tf.compat.v1.get_variable('weights_2', [hidden_size, hidden_size])\n",
    "biases_2 = tf.compat.v1.get_variable('biases_2', [hidden_size])\n",
    "outputs_2 = tf.nn.relu(tf.matmul(outputs_1, weights_2) + biases_2)\n",
    "\n",
    "weights_3 = tf.compat.v1.get_variable('weights_3', [hidden_size, output_size])\n",
    "biases_3 = tf.compat.v1.get_variable('biases_3', [output_size])\n",
    "\n",
    "outputs = tf.matmul(outputs_2, weights_3) + biases_3\n",
    "\n",
    "# It is common practice to incorporate the final activation in\n",
    "# the loss"
   ]
  },
  {
   "cell_type": "code",
   "execution_count": 3,
   "metadata": {},
   "outputs": [
    {
     "name": "stdout",
     "output_type": "stream",
     "text": [
      "WARNING:tensorflow:From C:\\Users\\ciara\\AppData\\Local\\Temp\\ipykernel_17140\\1427916103.py:2: softmax_cross_entropy_with_logits (from tensorflow.python.ops.nn_ops) is deprecated and will be removed in a future version.\n",
      "Instructions for updating:\n",
      "\n",
      "Future major versions of TensorFlow will allow gradients to flow\n",
      "into the labels input on backprop by default.\n",
      "\n",
      "See `tf.nn.softmax_cross_entropy_with_logits_v2`.\n",
      "\n"
     ]
    }
   ],
   "source": [
    "# Objective function\n",
    "loss = tf.compat.v1.nn.softmax_cross_entropy_with_logits(logits=outputs, labels=targets)\n",
    "\n",
    "# tf.nn.softmax_cross_entropy_with_logits(logits, labels) is a \n",
    "# function that applies a softmax activation and calculates a\n",
    "# cross-entropy loss\n",
    "\n",
    "mean_loss = tf.reduce_mean(loss)"
   ]
  },
  {
   "cell_type": "code",
   "execution_count": 4,
   "metadata": {},
   "outputs": [],
   "source": [
    "# Optimization\n",
    "optimize = tf.compat.v1.train.AdamOptimizer(learning_rate=0.001).minimize(mean_loss)"
   ]
  },
  {
   "cell_type": "code",
   "execution_count": 5,
   "metadata": {},
   "outputs": [],
   "source": [
    "# Prediction Accuracy\n",
    "out_equals_target = tf.equal(tf.argmax(outputs,axis=1), tf.argmax(targets,axis=1))\n",
    "accuracy = tf.reduce_mean(tf.cast(out_equals_target, tf.float32))"
   ]
  },
  {
   "cell_type": "code",
   "execution_count": 6,
   "metadata": {},
   "outputs": [],
   "source": [
    "# Prepare for execution\n",
    "sess = tf.compat.v1.InteractiveSession()"
   ]
  },
  {
   "cell_type": "code",
   "execution_count": 7,
   "metadata": {},
   "outputs": [],
   "source": [
    "# Initializing variables\n",
    "init = tf.compat.v1.global_variables_initializer()\n",
    "sess.run(init)"
   ]
  },
  {
   "cell_type": "code",
   "execution_count": 8,
   "metadata": {},
   "outputs": [],
   "source": [
    "# Batching\n",
    "batch_size = 100\n",
    "\n",
    "num_batches = mnist.train._num_examples // batch_size\n",
    "\n",
    "# Early stopping\n",
    "max_epochs = 15\n",
    "\n",
    "\n",
    "prev_val_loss = 9999999."
   ]
  },
  {
   "cell_type": "code",
   "execution_count": 9,
   "metadata": {},
   "outputs": [
    {
     "name": "stdout",
     "output_type": "stream",
     "text": [
      "Epoch 1. Mean loss: 0.335. Validation loss: 0.158. Validation accuracy: 95.58%\n",
      "Epoch 2. Mean loss: 0.141. Validation loss: 0.114. Validation accuracy: 96.80%\n",
      "Epoch 3. Mean loss: 0.096. Validation loss: 0.098. Validation accuracy: 97.20%\n",
      "Epoch 4. Mean loss: 0.074. Validation loss: 0.084. Validation accuracy: 97.52%\n",
      "Epoch 5. Mean loss: 0.059. Validation loss: 0.084. Validation accuracy: 97.36%\n",
      "Epoch 6. Mean loss: 0.047. Validation loss: 0.087. Validation accuracy: 97.46%\n",
      "End of training\n"
     ]
    }
   ],
   "source": [
    "# Make it learn\n",
    "\n",
    "# Create a loop for the epochs. e is a variable that automatically\n",
    "# starts from 0\n",
    "for e in range(max_epochs):\n",
    "    \n",
    "    # Keep track of sum of batch losses in the epoch\n",
    "    epoch_loss = 0.\n",
    "    \n",
    "    # Iterate over the batches in this epoch\n",
    "    for b in range(num_batches):\n",
    "        input_batch, target_batch = mnist.train.next_batch(batch_size)\n",
    "        \n",
    "        # Run the optimization step and get the mean loss for \n",
    "        # this batch. Feed it with the inputs and targets we just\n",
    "        # got from the train set\n",
    "        _, batch_loss = sess.run([optimize, mean_loss],\n",
    "                                feed_dict={inputs:input_batch, targets:target_batch})\n",
    "        \n",
    "        # Increment the sum of the batch losses\n",
    "        epoch_loss += batch_loss\n",
    "        \n",
    "    # Average batch loss    \n",
    "    epoch_loss /= num_batches #this is the training loss\n",
    "    \n",
    "    # At the end of each epoch, get the val loss and accuracy\n",
    "    # Get the input batch and the target batch from the val set\n",
    "    input_batch, target_batch = mnist.validation.next_batch(mnist.validation._num_examples)\n",
    "    \n",
    "    # Run without the optimization step (simply forward propagate)\n",
    "    val_loss, val_accuracy = sess.run([mean_loss, accuracy],\n",
    "                                     feed_dict={inputs: input_batch, targets:target_batch})\n",
    "    \n",
    "    # Print stats for each epoch\n",
    "    print('Epoch '+str(e+1)+\n",
    "          '. Mean loss: '+'{0:.3f}'.format(epoch_loss)+\n",
    "          '. Validation loss: '+'{0:.3f}'.format(val_loss)+\n",
    "          '. Validation accuracy: '+'{0:.2f}'.format(val_accuracy * 100.)+'%')\n",
    "    \n",
    "    # Trigger early stopping if val_loss increases\n",
    "    if val_loss > prev_val_loss:\n",
    "        break\n",
    "        \n",
    "    # Store this epoch's val_loss to be used as prev_val_loss\n",
    "    prev_val_loss = val_loss\n",
    "    \n",
    "        \n",
    "# What does the inside of the 2nd for loop do?\n",
    "# 1. Loads 100 inputs and targets (batch_size=100)\n",
    "# 2. Optimizes the algorithm and calculates the batch loss\n",
    "# 3. Records the loss for the iteration\n",
    "# 4. Starts with the next 100 inputs and targets\n",
    "# 5. Stops when the training set is exhausted\n",
    "\n",
    "print('End of training')"
   ]
  },
  {
   "cell_type": "markdown",
   "metadata": {},
   "source": [
    "### Test"
   ]
  },
  {
   "cell_type": "code",
   "execution_count": 10,
   "metadata": {},
   "outputs": [
    {
     "name": "stdout",
     "output_type": "stream",
     "text": [
      "Test accuracy: 97.10%\n"
     ]
    }
   ],
   "source": [
    "input_batch, target_batch = mnist.test.next_batch(mnist.test._num_examples)\n",
    "test_accuracy = sess.run([accuracy],\n",
    "                        feed_dict={inputs:input_batch, targets:target_batch})\n",
    "\n",
    "test_accuracy_percent = test_accuracy[0]*100\n",
    "\n",
    "print('Test accuracy: '+'{0:.2f}'.format(test_accuracy_percent)+'%')"
   ]
  },
  {
   "cell_type": "code",
   "execution_count": null,
   "metadata": {},
   "outputs": [],
   "source": []
  }
 ],
 "metadata": {
  "kernelspec": {
   "display_name": "Python [conda env:python3-TF1.0]",
   "language": "python",
   "name": "conda-env-python3-TF1.0-py"
  },
  "language_info": {
   "codemirror_mode": {
    "name": "ipython",
    "version": 3
   },
   "file_extension": ".py",
   "mimetype": "text/x-python",
   "name": "python",
   "nbconvert_exporter": "python",
   "pygments_lexer": "ipython3",
   "version": "3.7.13"
  }
 },
 "nbformat": 4,
 "nbformat_minor": 4
}
