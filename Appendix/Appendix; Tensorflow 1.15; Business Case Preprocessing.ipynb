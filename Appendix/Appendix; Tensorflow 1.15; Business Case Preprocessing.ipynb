{
 "cells": [
  {
   "cell_type": "markdown",
   "metadata": {},
   "source": [
    "# Action Plan\n",
    "1. Preprocess the data\n",
    "    - Balance the dataset\n",
    "    - Divide into train, validation, and test\n",
    "    - Save into a tensor friendly format\n",
    "2. Create a class that handles batching\n",
    "3. Create the machine learning algorithm"
   ]
  },
  {
   "cell_type": "markdown",
   "metadata": {},
   "source": [
    "# Preprocessing\n",
    "\n",
    "### Import relevant libraries"
   ]
  },
  {
   "cell_type": "code",
   "execution_count": 1,
   "metadata": {},
   "outputs": [],
   "source": [
    "import numpy as np\n",
    "from sklearn import preprocessing as pp"
   ]
  },
  {
   "cell_type": "markdown",
   "metadata": {},
   "source": [
    "### Load data"
   ]
  },
  {
   "cell_type": "code",
   "execution_count": 2,
   "metadata": {},
   "outputs": [],
   "source": [
    "raw_data = np.loadtxt('Audiobooks-data.csv', delimiter = ',')\n",
    "\n",
    "unscaled_inputs = raw_data[:, 1:-1]\n",
    "targets_all = raw_data[:,-1]"
   ]
  },
  {
   "cell_type": "markdown",
   "metadata": {},
   "source": [
    "### Balance the dataset"
   ]
  },
  {
   "cell_type": "code",
   "execution_count": 3,
   "metadata": {},
   "outputs": [],
   "source": [
    "targets_ones = int(np.sum(targets_all))\n",
    "\n",
    "num_zeros = 0\n",
    "ind_remove = []\n",
    "for i in range(targets_all.shape[0]):\n",
    "    if targets_all[i] == 0:\n",
    "        num_zeros += 1\n",
    "        if num_zeros > targets_ones:\n",
    "            ind_remove.append(i)\n",
    "            \n",
    "unscaled_inputs_ep = np.delete(unscaled_inputs, ind_remove, axis=0)\n",
    "targets_ep = np.delete(targets_all, ind_remove, axis=0)"
   ]
  },
  {
   "cell_type": "markdown",
   "metadata": {},
   "source": [
    "### Standardise the inputs"
   ]
  },
  {
   "cell_type": "code",
   "execution_count": 4,
   "metadata": {},
   "outputs": [],
   "source": [
    "scaled_inputs = pp.scale(unscaled_inputs_ep)"
   ]
  },
  {
   "cell_type": "markdown",
   "metadata": {},
   "source": [
    "### Shuffle the data"
   ]
  },
  {
   "cell_type": "code",
   "execution_count": 5,
   "metadata": {},
   "outputs": [],
   "source": [
    "ind_shuffle = np.arange(scaled_inputs.shape[0])\n",
    "np.random.shuffle(ind_shuffle)\n",
    "\n",
    "shuffled_inputs = scaled_inputs[ind_shuffle]\n",
    "shuffled_targets = targets_ep[ind_shuffle]"
   ]
  },
  {
   "cell_type": "markdown",
   "metadata": {},
   "source": [
    "### Split into training, validation, and test"
   ]
  },
  {
   "cell_type": "code",
   "execution_count": 6,
   "metadata": {},
   "outputs": [
    {
     "name": "stdout",
     "output_type": "stream",
     "text": [
      "1788.0 3579 0.49958088851634536\n",
      "222.0 447 0.4966442953020134\n",
      "227.0 448 0.5066964285714286\n"
     ]
    }
   ],
   "source": [
    "samples = shuffled_inputs.shape[0]\n",
    "train_size = int(0.8*samples)\n",
    "val_size = int(0.1*samples)\n",
    "test_size = samples - train_size - val_size\n",
    "\n",
    "train_inputs = shuffled_inputs[:train_size]\n",
    "train_targets = shuffled_targets[:train_size]\n",
    "\n",
    "val_inputs = shuffled_inputs[train_size:train_size + val_size]\n",
    "val_targets = shuffled_targets[train_size:train_size + val_size]\n",
    "\n",
    "test_inputs = shuffled_inputs[train_size + val_size:]\n",
    "test_targets = shuffled_targets[train_size + val_size:]\n",
    "\n",
    "print(np.sum(train_targets), train_size, np.sum(train_targets)/train_size)\n",
    "print(np.sum(val_targets), val_size, np.sum(val_targets)/val_size)\n",
    "print(np.sum(test_targets), test_size, np.sum(test_targets)/test_size)"
   ]
  },
  {
   "cell_type": "markdown",
   "metadata": {},
   "source": [
    "### Save the 3 datasets in \\*.npz"
   ]
  },
  {
   "cell_type": "code",
   "execution_count": 7,
   "metadata": {},
   "outputs": [],
   "source": [
    "np.savez('Audiobooks_data_train', inputs=train_inputs, targets=train_targets)\n",
    "np.savez('Audiobooks_data_val', inputs = val_inputs, targets=val_targets)\n",
    "np.savez('Audiobooks_data_test', inputs = test_inputs, targets=test_targets)"
   ]
  },
  {
   "cell_type": "code",
   "execution_count": null,
   "metadata": {},
   "outputs": [],
   "source": []
  }
 ],
 "metadata": {
  "kernelspec": {
   "display_name": "Python [conda env:python3-TF1.0]",
   "language": "python",
   "name": "conda-env-python3-TF1.0-py"
  },
  "language_info": {
   "codemirror_mode": {
    "name": "ipython",
    "version": 3
   },
   "file_extension": ".py",
   "mimetype": "text/x-python",
   "name": "python",
   "nbconvert_exporter": "python",
   "pygments_lexer": "ipython3",
   "version": "3.7.13"
  }
 },
 "nbformat": 4,
 "nbformat_minor": 4
}
